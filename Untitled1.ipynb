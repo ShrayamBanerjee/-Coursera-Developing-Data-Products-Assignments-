{
  "nbformat": 4,
  "nbformat_minor": 0,
  "metadata": {
    "colab": {
      "name": "Untitled1.ipynb",
      "provenance": [],
      "authorship_tag": "ABX9TyMmEk7o0ABfhNpMYog107oC",
      "include_colab_link": true
    },
    "kernelspec": {
      "name": "python3",
      "display_name": "Python 3"
    }
  },
  "cells": [
    {
      "cell_type": "markdown",
      "metadata": {
        "id": "view-in-github",
        "colab_type": "text"
      },
      "source": [
        "<a href=\"https://colab.research.google.com/github/ShrayamBanerjee/-Coursera-Developing-Data-Products-Assignments-/blob/master/Untitled1.ipynb\" target=\"_parent\"><img src=\"https://colab.research.google.com/assets/colab-badge.svg\" alt=\"Open In Colab\"/></a>"
      ]
    },
    {
      "cell_type": "code",
      "metadata": {
        "id": "5jizwrGUtmtm",
        "outputId": "01c06dd9-d313-47c9-cdb9-2a58c248f47b",
        "colab": {
          "base_uri": "https://localhost:8080/",
          "height": 34
        }
      },
      "source": [
        "def foo(m):\n",
        "    if m == 0:\n",
        "      return(0)\n",
        "    else:\n",
        "      return(m+foo(m-1))\n",
        "print(foo(10))"
      ],
      "execution_count": 6,
      "outputs": [
        {
          "output_type": "stream",
          "text": [
            "55\n"
          ],
          "name": "stdout"
        }
      ]
    },
    {
      "cell_type": "code",
      "metadata": {
        "id": "oeqwXdR6wxlX",
        "outputId": "3e55e393-f412-4669-b8f6-abfdb9a1fa6f",
        "colab": {
          "base_uri": "https://localhost:8080/",
          "height": 50
        }
      },
      "source": [
        "def primeproduct(p,q):\n",
        "  if(prime(p)==\"True\" and prime(q)==\"True\"):\n",
        "    print(\"True\")\n",
        "  else:\n",
        "    print(\"False\")\n",
        "def prime(n):\n",
        "  k=0\n",
        "  for i in range(2,n//2+1):\n",
        "    if(n%i==0):\n",
        "        k=k+1\n",
        "  if(k<=0):\n",
        "     return(\"True\")\n",
        "  else:\n",
        "      return(\"False\")\n",
        "m = int(input(\"Enter the no. to be checked\"))\n",
        "for i in range(2,m):\n",
        "     for j in range(2,m):\n",
        "        if((i*j) == m):\n",
        "          p, q = i,j\n",
        "#print(p,q)\n",
        "primeproduct(p,q)\n"
      ],
      "execution_count": 29,
      "outputs": [
        {
          "output_type": "stream",
          "text": [
            "Enter the no. to be checked202\n",
            "True\n"
          ],
          "name": "stdout"
        }
      ]
    },
    {
      "cell_type": "code",
      "metadata": {
        "id": "pOUgyOMCtsJ_",
        "outputId": "e8dd10ef-3273-4cf6-ce2b-06fedf6f3019",
        "colab": {
          "base_uri": "https://localhost:8080/",
          "height": 34
        }
      },
      "source": [
        "def mystery(l):\n",
        "  l = l[1:]\n",
        "  return()\n",
        "\n",
        "mylist = [7,11,13]\n",
        "mystery(mylist)\n",
        "print(mylist)"
      ],
      "execution_count": 5,
      "outputs": [
        {
          "output_type": "stream",
          "text": [
            "[7, 11, 13]\n"
          ],
          "name": "stdout"
        }
      ]
    }
  ]
}